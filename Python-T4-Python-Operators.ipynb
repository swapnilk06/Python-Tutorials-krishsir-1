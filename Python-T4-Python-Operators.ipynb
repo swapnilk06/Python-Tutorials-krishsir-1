{
 "cells": [
  {
   "cell_type": "markdown",
   "id": "cb47e8ce",
   "metadata": {},
   "source": [
    "# T-4 Python Operators"
   ]
  },
  {
   "cell_type": "markdown",
   "id": "995bbe5a",
   "metadata": {},
   "source": [
    "## python Operators\n",
    "\n",
    " - Logical\n",
    " - Equality\n",
    " - Comparision\n",
    " - Arithmetic\n",
    " - Bitwise\n",
    "    \n"
   ]
  },
  {
   "cell_type": "markdown",
   "id": "b2f1e561",
   "metadata": {},
   "source": [
    "# Logical Operators\n",
    "In python following keywords are used for boolean operations -\n",
    "\n",
    "|Keywords | Meaning|\n",
    "|-|-|\n",
    "|**not**|unary negation|\n",
    "|**and**|conditional AND|\n",
    "|**or**|conditional OR|"
   ]
  },
  {
   "cell_type": "markdown",
   "id": "f4b11582",
   "metadata": {},
   "source": [
    "### EXAMPLES : "
   ]
  },
  {
   "cell_type": "markdown",
   "id": "c7275774",
   "metadata": {},
   "source": [
    "#### Logical Operators with boolean  "
   ]
  },
  {
   "cell_type": "code",
   "execution_count": 1,
   "id": "d01dda79",
   "metadata": {},
   "outputs": [
    {
     "data": {
      "text/plain": [
       "bool"
      ]
     },
     "execution_count": 1,
     "metadata": {},
     "output_type": "execute_result"
    }
   ],
   "source": [
    "type(False)"
   ]
  },
  {
   "cell_type": "code",
   "execution_count": 2,
   "id": "86db406e",
   "metadata": {},
   "outputs": [
    {
     "data": {
      "text/plain": [
       "True"
      ]
     },
     "execution_count": 2,
     "metadata": {},
     "output_type": "execute_result"
    }
   ],
   "source": [
    "bool(1)"
   ]
  },
  {
   "cell_type": "code",
   "execution_count": 4,
   "id": "35cbfd7a",
   "metadata": {},
   "outputs": [],
   "source": [
    "# boolean variable\n",
    "a=True\n",
    "b=False"
   ]
  },
  {
   "cell_type": "code",
   "execution_count": 8,
   "id": "8888e1b9",
   "metadata": {},
   "outputs": [
    {
     "data": {
      "text/plain": [
       "False"
      ]
     },
     "execution_count": 8,
     "metadata": {},
     "output_type": "execute_result"
    }
   ],
   "source": [
    "# Logical AND\n",
    "True and False # False\n",
    "True and True  # True\n",
    "False and True # False\n",
    "False and False # False"
   ]
  },
  {
   "cell_type": "code",
   "execution_count": 14,
   "id": "c325a664",
   "metadata": {},
   "outputs": [
    {
     "data": {
      "text/plain": [
       "False"
      ]
     },
     "execution_count": 14,
     "metadata": {},
     "output_type": "execute_result"
    }
   ],
   "source": [
    "# Logical OR\n",
    "True or False # True\n",
    "True or True # True\n",
    "False or True # True\n",
    "False or False # False"
   ]
  },
  {
   "cell_type": "code",
   "execution_count": 2,
   "id": "478ba5c8",
   "metadata": {},
   "outputs": [
    {
     "data": {
      "text/plain": [
       "True"
      ]
     },
     "execution_count": 2,
     "metadata": {},
     "output_type": "execute_result"
    }
   ],
   "source": [
    "# Unary negation for -> not\n",
    "not False"
   ]
  },
  {
   "cell_type": "code",
   "execution_count": 18,
   "id": "0ddda4b3",
   "metadata": {},
   "outputs": [
    {
     "name": "stdout",
     "output_type": "stream",
     "text": [
      "Enter the age 21\n",
      "Mid age\n"
     ]
    }
   ],
   "source": [
    "age=int(input(\"Enter the age \"))\n",
    "if age>18 and age<=35:\n",
    "    print(\"Mid age\")"
   ]
  },
  {
   "cell_type": "code",
   "execution_count": 4,
   "id": "002de477",
   "metadata": {},
   "outputs": [
    {
     "name": "stdout",
     "output_type": "stream",
     "text": [
      "Enter the age 16\n",
      "Mid age\n"
     ]
    }
   ],
   "source": [
    "age=int(input(\"Enter the age \"))\n",
    "if age<18 or age>=35:\n",
    "    print(\"Mid age\")"
   ]
  },
  {
   "cell_type": "code",
   "execution_count": null,
   "id": "6d568566",
   "metadata": {},
   "outputs": [],
   "source": []
  },
  {
   "cell_type": "markdown",
   "id": "3354892f",
   "metadata": {},
   "source": [
    "# Equality Operators\n",
    "Following operations are present in python for equality check operations -\n",
    "\n",
    "|Operators | Meaning|\n",
    "|-|-|\n",
    "|**is**|***a is b*** returns true if variable/identifiers a and b *points* to the *same object*|\n",
    "|**is not**|***a is not b*** returns true if variable/identifiers a and b *points* to the *different object*|\n",
    "|**==**|***a == b*** returns true if variable/identifiers a and b has same value|\n",
    "|**!=**|***a != b*** returns true if variable/identifiers a and b has different value|\n"
   ]
  },
  {
   "cell_type": "code",
   "execution_count": 5,
   "id": "2b075147",
   "metadata": {},
   "outputs": [
    {
     "data": {
      "text/plain": [
       "True"
      ]
     },
     "execution_count": 5,
     "metadata": {},
     "output_type": "execute_result"
    }
   ],
   "source": [
    "a=\"Krish\"\n",
    "b=\"Krish\"\n",
    "\n",
    "a==b"
   ]
  },
  {
   "cell_type": "code",
   "execution_count": 6,
   "id": "eab81bdb",
   "metadata": {},
   "outputs": [
    {
     "data": {
      "text/plain": [
       "False"
      ]
     },
     "execution_count": 6,
     "metadata": {},
     "output_type": "execute_result"
    }
   ],
   "source": [
    "a=\"Krish\"\n",
    "b=\"Krish1\"\n",
    "\n",
    "a==b"
   ]
  },
  {
   "cell_type": "code",
   "execution_count": 7,
   "id": "149cfeb8",
   "metadata": {},
   "outputs": [
    {
     "name": "stdout",
     "output_type": "stream",
     "text": [
      "Enter the age 18\n",
      "You are in the teenager age\n"
     ]
    }
   ],
   "source": [
    "age=int(input(\"Enter the age \"))\n",
    "if age == 18:\n",
    "    print(\"You are in the teenager age\")"
   ]
  },
  {
   "cell_type": "code",
   "execution_count": null,
   "id": "3f836887",
   "metadata": {},
   "outputs": [],
   "source": [
    "# that object is created in which memory"
   ]
  },
  {
   "cell_type": "code",
   "execution_count": 8,
   "id": "ae81e357",
   "metadata": {},
   "outputs": [
    {
     "data": {
      "text/plain": [
       "2241853484848"
      ]
     },
     "execution_count": 8,
     "metadata": {},
     "output_type": "execute_result"
    }
   ],
   "source": [
    "a=\"Krish\"\n",
    "id(a)"
   ]
  },
  {
   "cell_type": "code",
   "execution_count": null,
   "id": "5761dbb1",
   "metadata": {},
   "outputs": [],
   "source": [
    "# id points to the same objects"
   ]
  },
  {
   "cell_type": "code",
   "execution_count": 9,
   "id": "a25be139",
   "metadata": {},
   "outputs": [
    {
     "name": "stdout",
     "output_type": "stream",
     "text": [
      "2241853484848\n",
      "2241853484848\n"
     ]
    }
   ],
   "source": [
    "a=\"Krish\"\n",
    "b=\"Krish\"\n",
    "print(id(a))\n",
    "print(id(b))"
   ]
  },
  {
   "cell_type": "code",
   "execution_count": 12,
   "id": "a8254c7b",
   "metadata": {},
   "outputs": [
    {
     "data": {
      "text/plain": [
       "True"
      ]
     },
     "execution_count": 12,
     "metadata": {},
     "output_type": "execute_result"
    }
   ],
   "source": [
    "a is b # objects pointed to same location i.e. TRUE"
   ]
  },
  {
   "cell_type": "code",
   "execution_count": 14,
   "id": "131a82b9",
   "metadata": {},
   "outputs": [
    {
     "data": {
      "text/plain": [
       "True"
      ]
     },
     "execution_count": 14,
     "metadata": {},
     "output_type": "execute_result"
    }
   ],
   "source": [
    "a == b # value also same i.e TRUE"
   ]
  },
  {
   "cell_type": "code",
   "execution_count": null,
   "id": "d5be4c4d",
   "metadata": {},
   "outputs": [],
   "source": []
  },
  {
   "cell_type": "markdown",
   "id": "deafe12c",
   "metadata": {},
   "source": [
    "### is V/S == meaning?\n",
    "\n",
    "\"==\" ===> Check in value\n",
    "\"is\" ===> check memory location located pointed to same object or not"
   ]
  },
  {
   "cell_type": "code",
   "execution_count": null,
   "id": "5293b2ac",
   "metadata": {},
   "outputs": [],
   "source": []
  },
  {
   "cell_type": "code",
   "execution_count": 11,
   "id": "f7aee0e7",
   "metadata": {},
   "outputs": [
    {
     "name": "stdout",
     "output_type": "stream",
     "text": [
      "2241870347840\n",
      "2241870340800\n"
     ]
    }
   ],
   "source": [
    "lst=[1,2,3]\n",
    "lst1=[1,2,3]\n",
    "print(id(lst))\n",
    "print(id(lst1))"
   ]
  },
  {
   "cell_type": "code",
   "execution_count": 13,
   "id": "a2eabf17",
   "metadata": {},
   "outputs": [
    {
     "data": {
      "text/plain": [
       "True"
      ]
     },
     "execution_count": 13,
     "metadata": {},
     "output_type": "execute_result"
    }
   ],
   "source": [
    "lst == lst1  # value also same i.e TRUE"
   ]
  },
  {
   "cell_type": "code",
   "execution_count": 15,
   "id": "d804d6e1",
   "metadata": {},
   "outputs": [
    {
     "data": {
      "text/plain": [
       "False"
      ]
     },
     "execution_count": 15,
     "metadata": {},
     "output_type": "execute_result"
    }
   ],
   "source": [
    "lst is lst1 # objects pointed to different location i.e. False"
   ]
  },
  {
   "cell_type": "code",
   "execution_count": 16,
   "id": "079cabd2",
   "metadata": {},
   "outputs": [
    {
     "data": {
      "text/plain": [
       "True"
      ]
     },
     "execution_count": 16,
     "metadata": {},
     "output_type": "execute_result"
    }
   ],
   "source": [
    "# is not\n",
    "\n",
    "lst is not lst1"
   ]
  },
  {
   "cell_type": "code",
   "execution_count": 17,
   "id": "60b12af1",
   "metadata": {},
   "outputs": [
    {
     "data": {
      "text/plain": [
       "True"
      ]
     },
     "execution_count": 17,
     "metadata": {},
     "output_type": "execute_result"
    }
   ],
   "source": [
    "# != \n",
    "\n",
    "\"Krish\"!=\"Krish1\""
   ]
  },
  {
   "cell_type": "code",
   "execution_count": null,
   "id": "ca261654",
   "metadata": {},
   "outputs": [],
   "source": []
  },
  {
   "cell_type": "markdown",
   "id": "f8ed8010",
   "metadata": {},
   "source": [
    "# Comparison Operators\n",
    "|Operators | Meaning|\n",
    "|:-:|:-:|\n",
    "| **<** |less than|\n",
    "| **<=** |less than or equal to|\n",
    "| **>** |greater than|\n",
    "| **>=** |greater than or equal to|"
   ]
  },
  {
   "cell_type": "code",
   "execution_count": 20,
   "id": "b0d021b5",
   "metadata": {},
   "outputs": [
    {
     "name": "stdout",
     "output_type": "stream",
     "text": [
      "Enter the marks 65\n",
      "Pass\n",
      "First Class\n"
     ]
    }
   ],
   "source": [
    "marks=float(input(\"Enter the marks \"))\n",
    "\n",
    "if marks>=35:\n",
    "    print(\"Pass\")\n",
    "    if marks>=50 and marks<=70:\n",
    "        print(\"First Class\")\n",
    "elif marks<35:\n",
    "    print(\"Fail\")"
   ]
  },
  {
   "cell_type": "code",
   "execution_count": null,
   "id": "f85e9385",
   "metadata": {},
   "outputs": [],
   "source": []
  },
  {
   "cell_type": "markdown",
   "id": "f83e26ab",
   "metadata": {},
   "source": [
    "# Arithmetic Operators\n",
    "|Operators | Meaning|\n",
    "|:-:|:-:|\n",
    "| **+** |addition|\n",
    "| **-** |substraction|\n",
    "| **\\*** |multiplication|\n",
    "| **/** |true division|\n",
    "| **//** |integer division|\n",
    "| **%** |the modulo operator|"
   ]
  },
  {
   "cell_type": "code",
   "execution_count": 23,
   "id": "dc03ccbd",
   "metadata": {},
   "outputs": [
    {
     "data": {
      "text/plain": [
       "48"
      ]
     },
     "execution_count": 23,
     "metadata": {},
     "output_type": "execute_result"
    }
   ],
   "source": [
    "24+24"
   ]
  },
  {
   "cell_type": "code",
   "execution_count": 24,
   "id": "384f6ad0",
   "metadata": {},
   "outputs": [
    {
     "data": {
      "text/plain": [
       "24"
      ]
     },
     "execution_count": 24,
     "metadata": {},
     "output_type": "execute_result"
    }
   ],
   "source": [
    "48-24"
   ]
  },
  {
   "cell_type": "code",
   "execution_count": 25,
   "id": "71aa2f79",
   "metadata": {},
   "outputs": [
    {
     "data": {
      "text/plain": [
       "1152"
      ]
     },
     "execution_count": 25,
     "metadata": {},
     "output_type": "execute_result"
    }
   ],
   "source": [
    "48*24"
   ]
  },
  {
   "cell_type": "code",
   "execution_count": 26,
   "id": "f51dd524",
   "metadata": {},
   "outputs": [
    {
     "data": {
      "text/plain": [
       "12.0"
      ]
     },
     "execution_count": 26,
     "metadata": {},
     "output_type": "execute_result"
    }
   ],
   "source": [
    "48/4"
   ]
  },
  {
   "cell_type": "code",
   "execution_count": 27,
   "id": "75c5dd29",
   "metadata": {},
   "outputs": [
    {
     "data": {
      "text/plain": [
       "12"
      ]
     },
     "execution_count": 27,
     "metadata": {},
     "output_type": "execute_result"
    }
   ],
   "source": [
    "# integer division\n",
    "48//4"
   ]
  },
  {
   "cell_type": "code",
   "execution_count": 28,
   "id": "f8477518",
   "metadata": {},
   "outputs": [
    {
     "data": {
      "text/plain": [
       "9.6"
      ]
     },
     "execution_count": 28,
     "metadata": {},
     "output_type": "execute_result"
    }
   ],
   "source": [
    "48/5"
   ]
  },
  {
   "cell_type": "code",
   "execution_count": 29,
   "id": "285f1946",
   "metadata": {},
   "outputs": [
    {
     "data": {
      "text/plain": [
       "9"
      ]
     },
     "execution_count": 29,
     "metadata": {},
     "output_type": "execute_result"
    }
   ],
   "source": [
    "# integer division\n",
    "48//5  # it take only whole number"
   ]
  },
  {
   "cell_type": "code",
   "execution_count": 30,
   "id": "3df79170",
   "metadata": {},
   "outputs": [
    {
     "data": {
      "text/plain": [
       "3"
      ]
     },
     "execution_count": 30,
     "metadata": {},
     "output_type": "execute_result"
    }
   ],
   "source": [
    "48%5"
   ]
  },
  {
   "cell_type": "code",
   "execution_count": null,
   "id": "1b58c683",
   "metadata": {},
   "outputs": [],
   "source": []
  }
 ],
 "metadata": {
  "kernelspec": {
   "display_name": "Python 3 (ipykernel)",
   "language": "python",
   "name": "python3"
  },
  "language_info": {
   "codemirror_mode": {
    "name": "ipython",
    "version": 3
   },
   "file_extension": ".py",
   "mimetype": "text/x-python",
   "name": "python",
   "nbconvert_exporter": "python",
   "pygments_lexer": "ipython3",
   "version": "3.11.3"
  }
 },
 "nbformat": 4,
 "nbformat_minor": 5
}
