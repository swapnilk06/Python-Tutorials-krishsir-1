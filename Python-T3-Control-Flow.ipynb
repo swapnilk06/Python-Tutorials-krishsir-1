{
 "cells": [
  {
   "cell_type": "markdown",
   "id": "eefc9782",
   "metadata": {},
   "source": [
    "# T-3 Python Control Flow"
   ]
  },
  {
   "cell_type": "code",
   "execution_count": 9,
   "id": "4796d179",
   "metadata": {},
   "outputs": [
    {
     "name": "stdout",
     "output_type": "stream",
     "text": [
      "Enter the number 101.5\n",
      "101.5\n",
      "the number is greater than 100\n"
     ]
    }
   ],
   "source": [
    "# if statement\n",
    "\n",
    "val=input(\"Enter the number \")\n",
    "value_float=float(val)\n",
    "print(value_float)\n",
    "\n",
    "if(value_float>100):\n",
    "    print(\"the number is greater than 100\")"
   ]
  },
  {
   "cell_type": "code",
   "execution_count": null,
   "id": "24172c99",
   "metadata": {},
   "outputs": [],
   "source": []
  },
  {
   "cell_type": "code",
   "execution_count": 10,
   "id": "028722dc",
   "metadata": {},
   "outputs": [
    {
     "name": "stdout",
     "output_type": "stream",
     "text": [
      "Enter the number 33\n",
      "the number is odd\n"
     ]
    }
   ],
   "source": [
    "# if-else statement\n",
    "\n",
    "val=input(\"Enter the number \")\n",
    "value_int=int(val)\n",
    "\n",
    "if(value_int%2==0):\n",
    "    print(\"the number is even\")\n",
    "else:\n",
    "    print(\"the number is odd\")\n",
    "    "
   ]
  },
  {
   "cell_type": "code",
   "execution_count": null,
   "id": "cda7204a",
   "metadata": {},
   "outputs": [],
   "source": []
  },
  {
   "cell_type": "code",
   "execution_count": 16,
   "id": "8d8f5114",
   "metadata": {},
   "outputs": [
    {
     "name": "stdout",
     "output_type": "stream",
     "text": [
      "Enter the age 17\n",
      "Minor Age\n"
     ]
    }
   ],
   "source": [
    "## Age form\n",
    "\n",
    "age=float(input(\"Enter the age \"))\n",
    "\n",
    "if(age<18):\n",
    "    print(\"Minor Age\")\n",
    "else:\n",
    "    print(\"You are not minor\")"
   ]
  },
  {
   "cell_type": "markdown",
   "id": "e5e14c6e",
   "metadata": {},
   "source": []
  },
  {
   "cell_type": "code",
   "execution_count": 21,
   "id": "8c4251a7",
   "metadata": {},
   "outputs": [
    {
     "name": "stdout",
     "output_type": "stream",
     "text": [
      "Enter the age 60\n",
      "Senior Citizen\n"
     ]
    }
   ],
   "source": [
    "## nested if else condition, elif\n",
    "\n",
    "age=float(input(\"Enter the age \"))\n",
    "\n",
    "if(age<18):\n",
    "    print(\"Minor Age\")\n",
    "elif(age>=18 and age<=45):\n",
    "    print(\"Mid Age\")\n",
    "elif(age>45 and age<=50):\n",
    "    print(\"Senior Mid Age\")\n",
    "else:\n",
    "    print(\"Senior Citizen\")"
   ]
  },
  {
   "cell_type": "code",
   "execution_count": null,
   "id": "620adcb7",
   "metadata": {},
   "outputs": [],
   "source": []
  },
  {
   "cell_type": "code",
   "execution_count": 22,
   "id": "c36efb7a",
   "metadata": {},
   "outputs": [
    {
     "name": "stdout",
     "output_type": "stream",
     "text": [
      "Enter the age 17\n",
      "Minor Age\n",
      "You are in College\n"
     ]
    }
   ],
   "source": [
    "## nested if else condition, elif\n",
    "\n",
    "age=float(input(\"Enter the age \"))\n",
    "\n",
    "if(age<18):\n",
    "    print(\"Minor Age\")\n",
    "    if(age<15):\n",
    "        print(\"You are in School\")\n",
    "    else:\n",
    "        print(\"You are in College\")\n",
    "    \n",
    "elif(age>=18 and age<=45):\n",
    "    print(\"Mid Age\")\n",
    "elif(age>45 and age<=50):\n",
    "    print(\"Senior Mid Age\")\n",
    "else:\n",
    "    print(\"Senior Citizen\")"
   ]
  },
  {
   "cell_type": "code",
   "execution_count": null,
   "id": "d143f5a1",
   "metadata": {},
   "outputs": [],
   "source": []
  },
  {
   "cell_type": "code",
   "execution_count": 23,
   "id": "5a7e65a7",
   "metadata": {},
   "outputs": [
    {
     "name": "stdout",
     "output_type": "stream",
     "text": [
      "1\n",
      "2\n",
      "3\n",
      "4\n",
      "5\n",
      "6\n",
      "7\n"
     ]
    }
   ],
   "source": [
    "# Loops Statement\n",
    "## for loop, while loop\n",
    "\n",
    "lst=[1,2,3,4,5,6,7]\n",
    "for i in lst:\n",
    "    print(i)\n"
   ]
  },
  {
   "cell_type": "code",
   "execution_count": null,
   "id": "14209c89",
   "metadata": {},
   "outputs": [],
   "source": []
  },
  {
   "cell_type": "code",
   "execution_count": 28,
   "id": "02a3f73e",
   "metadata": {},
   "outputs": [
    {
     "name": "stdout",
     "output_type": "stream",
     "text": [
      "28\n"
     ]
    }
   ],
   "source": [
    "## find the sum of all the elements in the list\n",
    "\n",
    "lst=[1,2,3,4,5,6,7]\n",
    "sum1=0\n",
    "for i in lst:\n",
    "    sum1=sum1+i\n",
    "\n",
    "print(sum1)\n"
   ]
  },
  {
   "cell_type": "code",
   "execution_count": null,
   "id": "24103568",
   "metadata": {},
   "outputs": [],
   "source": []
  },
  {
   "cell_type": "code",
   "execution_count": 34,
   "id": "7ee42120",
   "metadata": {},
   "outputs": [
    {
     "name": "stdout",
     "output_type": "stream",
     "text": [
      "Even sum is 12\n",
      "Odd sum is 16\n"
     ]
    }
   ],
   "source": [
    "## find the sum of even and odd number\n",
    "lst=[1,2,3,4,5,6,7]\n",
    "even_sum=0\n",
    "odd_sum=0\n",
    "\n",
    "for i in lst:\n",
    "    if(i%2==0):\n",
    "        even_sum=even_sum+i\n",
    "    else:\n",
    "        odd_sum=odd_sum+i\n",
    "\n",
    "print(\"Even sum is {}\".format(even_sum))\n",
    "print(\"Odd sum is {}\".format(odd_sum))\n",
    "        "
   ]
  },
  {
   "cell_type": "code",
   "execution_count": null,
   "id": "ccaba3cb",
   "metadata": {},
   "outputs": [],
   "source": []
  },
  {
   "cell_type": "code",
   "execution_count": 2,
   "id": "8762fc55",
   "metadata": {},
   "outputs": [
    {
     "name": "stdout",
     "output_type": "stream",
     "text": [
      "0\n",
      "1\n",
      "2\n",
      "3\n",
      "4\n",
      "5\n",
      "6\n",
      "7\n",
      "8\n",
      "9\n",
      "10\n"
     ]
    }
   ],
   "source": [
    "# while condition ---> loop continously run until true condition\n",
    "\n",
    "i=0\n",
    "while(i<=10):\n",
    "    print(i)\n",
    "    i=i+1"
   ]
  },
  {
   "cell_type": "code",
   "execution_count": null,
   "id": "bd9839d3",
   "metadata": {},
   "outputs": [],
   "source": []
  },
  {
   "cell_type": "code",
   "execution_count": 5,
   "id": "575488f5",
   "metadata": {},
   "outputs": [
    {
     "name": "stdout",
     "output_type": "stream",
     "text": [
      "30 25\n"
     ]
    }
   ],
   "source": [
    "# while condition ---> loop continously run until true condition\n",
    "\n",
    "i=0\n",
    "even_sum=0\n",
    "odd_sum=0\n",
    "while(i<=10):\n",
    "    \n",
    "    if(i%2==0):\n",
    "        even_sum=even_sum+i\n",
    "    else:\n",
    "        odd_sum=odd_sum+i\n",
    "    i=i+1\n",
    "print(even_sum,odd_sum)"
   ]
  },
  {
   "cell_type": "code",
   "execution_count": null,
   "id": "5ad06e24",
   "metadata": {},
   "outputs": [],
   "source": []
  },
  {
   "cell_type": "code",
   "execution_count": 10,
   "id": "b19a17a5",
   "metadata": {},
   "outputs": [
    {
     "name": "stdout",
     "output_type": "stream",
     "text": [
      "1\n",
      "2\n",
      "3\n"
     ]
    }
   ],
   "source": [
    "## break\n",
    "x=1\n",
    "while(x<7):\n",
    "    \n",
    "    if x==4:\n",
    "        break\n",
    "    print(x)\n",
    "    x=x+1"
   ]
  },
  {
   "cell_type": "code",
   "execution_count": null,
   "id": "a5755415",
   "metadata": {},
   "outputs": [],
   "source": []
  },
  {
   "cell_type": "code",
   "execution_count": 11,
   "id": "bf6e2e9d",
   "metadata": {},
   "outputs": [
    {
     "name": "stdout",
     "output_type": "stream",
     "text": [
      "1\n",
      "2\n",
      "3\n",
      "5\n",
      "6\n",
      "7\n"
     ]
    }
   ],
   "source": [
    "## continue\n",
    "x=0\n",
    "while(x<7):\n",
    "    x=x+1\n",
    "    if x==4:   # 4==4 keep that statement\n",
    "        continue\n",
    "    print(x)\n",
    "   "
   ]
  },
  {
   "cell_type": "code",
   "execution_count": null,
   "id": "440f9acc",
   "metadata": {},
   "outputs": [],
   "source": []
  }
 ],
 "metadata": {
  "kernelspec": {
   "display_name": "Python 3 (ipykernel)",
   "language": "python",
   "name": "python3"
  },
  "language_info": {
   "codemirror_mode": {
    "name": "ipython",
    "version": 3
   },
   "file_extension": ".py",
   "mimetype": "text/x-python",
   "name": "python",
   "nbconvert_exporter": "python",
   "pygments_lexer": "ipython3",
   "version": "3.11.3"
  }
 },
 "nbformat": 4,
 "nbformat_minor": 5
}
